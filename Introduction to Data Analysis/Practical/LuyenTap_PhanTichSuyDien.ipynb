{
 "cells": [
  {
   "cell_type": "code",
   "execution_count": 1,
   "metadata": {},
   "outputs": [],
   "source": [
    "import pandas as pd\n",
    "import numpy as np\n",
    "import matplotlib.pyplot as plt\n",
    "import seaborn as sns\n",
    "import scipy.stats as stats\n",
    "from statsmodels.stats.weightstats import ztest\n",
    "from scipy.stats import pearsonr, chi2_contingency\n",
    "import statsmodels.api as sm\n",
    "from statsmodels.formula.api import ols"
   ]
  },
  {
   "cell_type": "code",
   "execution_count": 2,
   "metadata": {},
   "outputs": [
    {
     "data": {
      "text/html": [
       "<div>\n",
       "<style scoped>\n",
       "    .dataframe tbody tr th:only-of-type {\n",
       "        vertical-align: middle;\n",
       "    }\n",
       "\n",
       "    .dataframe tbody tr th {\n",
       "        vertical-align: top;\n",
       "    }\n",
       "\n",
       "    .dataframe thead th {\n",
       "        text-align: right;\n",
       "    }\n",
       "</style>\n",
       "<table border=\"1\" class=\"dataframe\">\n",
       "  <thead>\n",
       "    <tr style=\"text-align: right;\">\n",
       "      <th></th>\n",
       "      <th>ID</th>\n",
       "      <th>Age</th>\n",
       "      <th>Gender</th>\n",
       "      <th>Income</th>\n",
       "      <th>Score_A</th>\n",
       "      <th>Score_B</th>\n",
       "      <th>Group</th>\n",
       "      <th>Category</th>\n",
       "      <th>Purchase</th>\n",
       "    </tr>\n",
       "  </thead>\n",
       "  <tbody>\n",
       "    <tr>\n",
       "      <th>0</th>\n",
       "      <td>1</td>\n",
       "      <td>56</td>\n",
       "      <td>Male</td>\n",
       "      <td>64439.619350</td>\n",
       "      <td>102.839380</td>\n",
       "      <td>66.654494</td>\n",
       "      <td>Treatment</td>\n",
       "      <td>C</td>\n",
       "      <td>0</td>\n",
       "    </tr>\n",
       "    <tr>\n",
       "      <th>1</th>\n",
       "      <td>2</td>\n",
       "      <td>69</td>\n",
       "      <td>Male</td>\n",
       "      <td>46854.613447</td>\n",
       "      <td>74.688132</td>\n",
       "      <td>58.549619</td>\n",
       "      <td>Treatment</td>\n",
       "      <td>C</td>\n",
       "      <td>0</td>\n",
       "    </tr>\n",
       "    <tr>\n",
       "      <th>2</th>\n",
       "      <td>3</td>\n",
       "      <td>46</td>\n",
       "      <td>Male</td>\n",
       "      <td>38389.356039</td>\n",
       "      <td>74.884167</td>\n",
       "      <td>83.453170</td>\n",
       "      <td>Treatment</td>\n",
       "      <td>B</td>\n",
       "      <td>0</td>\n",
       "    </tr>\n",
       "    <tr>\n",
       "      <th>3</th>\n",
       "      <td>4</td>\n",
       "      <td>32</td>\n",
       "      <td>Male</td>\n",
       "      <td>44603.327821</td>\n",
       "      <td>76.905987</td>\n",
       "      <td>45.631635</td>\n",
       "      <td>Treatment</td>\n",
       "      <td>B</td>\n",
       "      <td>0</td>\n",
       "    </tr>\n",
       "    <tr>\n",
       "      <th>4</th>\n",
       "      <td>5</td>\n",
       "      <td>60</td>\n",
       "      <td>Male</td>\n",
       "      <td>60861.248773</td>\n",
       "      <td>81.069757</td>\n",
       "      <td>88.323840</td>\n",
       "      <td>Control</td>\n",
       "      <td>B</td>\n",
       "      <td>1</td>\n",
       "    </tr>\n",
       "  </tbody>\n",
       "</table>\n",
       "</div>"
      ],
      "text/plain": [
       "   ID  Age Gender        Income     Score_A    Score_B      Group Category  \\\n",
       "0   1   56   Male  64439.619350  102.839380  66.654494  Treatment        C   \n",
       "1   2   69   Male  46854.613447   74.688132  58.549619  Treatment        C   \n",
       "2   3   46   Male  38389.356039   74.884167  83.453170  Treatment        B   \n",
       "3   4   32   Male  44603.327821   76.905987  45.631635  Treatment        B   \n",
       "4   5   60   Male  60861.248773   81.069757  88.323840    Control        B   \n",
       "\n",
       "   Purchase  \n",
       "0         0  \n",
       "1         0  \n",
       "2         0  \n",
       "3         0  \n",
       "4         1  "
      ]
     },
     "execution_count": 2,
     "metadata": {},
     "output_type": "execute_result"
    }
   ],
   "source": [
    "df = pd.read_csv(\"data/Customer_Behavior_Analysis.csv\")\n",
    "df.head()"
   ]
  },
  {
   "cell_type": "markdown",
   "metadata": {},
   "source": [
    "Câu 1: Có sự khác biệt có ý nghĩa thống kê về thu nhập trung bình giữa nam và nữ không?"
   ]
  },
  {
   "cell_type": "code",
   "execution_count": 3,
   "metadata": {},
   "outputs": [
    {
     "data": {
      "text/plain": [
       "(np.float64(0.2700506161493615), np.float64(0.7871213135845863))"
      ]
     },
     "execution_count": 3,
     "metadata": {},
     "output_type": "execute_result"
    }
   ],
   "source": [
    "dfMale = df[df[\"Gender\"] == \"Male\"]\n",
    "dfFemale = df[df[\"Gender\"] == \"Female\"]\n",
    "\n",
    "ztest(dfMale[\"Income\"], dfFemale[\"Income\"], value=0)\n",
    "\n",
    "# H0: Thu nhập trung bình giữa nam và nữ bằng nhau\n",
    "# H1: Thu nhập trung bình giữa nam và nữ không bằng nhau\n",
    "\n",
    "# p-value là 0.7871213135845863 > 0.05 [ACCEPT H0]\n",
    "# Kết luận: không đủ dữ kiện bác bỏ thu nhập trung bình giữa nam và nữ bằng nhau\n",
    "# với độ tin cậy 95%"
   ]
  },
  {
   "cell_type": "markdown",
   "metadata": {},
   "source": [
    "Câu 2: Tuổi có ảnh hưởng đến thu nhập không? Nếu có, mô tả mối quan hệ giữa chúng."
   ]
  },
  {
   "cell_type": "code",
   "execution_count": null,
   "metadata": {},
   "outputs": [
    {
     "data": {
      "text/html": [
       "<div>\n",
       "<style scoped>\n",
       "    .dataframe tbody tr th:only-of-type {\n",
       "        vertical-align: middle;\n",
       "    }\n",
       "\n",
       "    .dataframe tbody tr th {\n",
       "        vertical-align: top;\n",
       "    }\n",
       "\n",
       "    .dataframe thead th {\n",
       "        text-align: right;\n",
       "    }\n",
       "</style>\n",
       "<table border=\"1\" class=\"dataframe\">\n",
       "  <thead>\n",
       "    <tr style=\"text-align: right;\">\n",
       "      <th></th>\n",
       "      <th>df</th>\n",
       "      <th>sum_sq</th>\n",
       "      <th>mean_sq</th>\n",
       "      <th>F</th>\n",
       "      <th>PR(&gt;F)</th>\n",
       "    </tr>\n",
       "  </thead>\n",
       "  <tbody>\n",
       "    <tr>\n",
       "      <th>Age</th>\n",
       "      <td>1.0</td>\n",
       "      <td>9.925360e+07</td>\n",
       "      <td>9.925360e+07</td>\n",
       "      <td>0.426762</td>\n",
       "      <td>0.515112</td>\n",
       "    </tr>\n",
       "    <tr>\n",
       "      <th>Residual</th>\n",
       "      <td>98.0</td>\n",
       "      <td>2.279220e+10</td>\n",
       "      <td>2.325735e+08</td>\n",
       "      <td>NaN</td>\n",
       "      <td>NaN</td>\n",
       "    </tr>\n",
       "  </tbody>\n",
       "</table>\n",
       "</div>"
      ],
      "text/plain": [
       "            df        sum_sq       mean_sq         F    PR(>F)\n",
       "Age        1.0  9.925360e+07  9.925360e+07  0.426762  0.515112\n",
       "Residual  98.0  2.279220e+10  2.325735e+08       NaN       NaN"
      ]
     },
     "execution_count": 4,
     "metadata": {},
     "output_type": "execute_result"
    }
   ],
   "source": [
    "model = ols('Income ~ Age', data=df).fit()\n",
    "aov_table = sm.stats.anova_lm(model, typ=1)\n",
    "aov_table\n",
    "\n",
    "# H0: Tuổi không ảnh hưởng đến thu nhập\n",
    "# H1: Tuổi có ảnh hưởng đến thu nhập\n",
    "\n",
    "# Do PR(>F) là 0.515 > 0.05 [ACCEPT H0]\n",
    "# Kết luận: Không đủ dữ kiện để bác bỏ tuổi không ảnh hưởng\n",
    "# đến thu nhập với độ tin cậy 95%"
   ]
  },
  {
   "cell_type": "markdown",
   "metadata": {},
   "source": [
    "Câu 3: Điểm số A có khác nhau giữa các nhóm (Control và Treatment) không?"
   ]
  },
  {
   "cell_type": "code",
   "execution_count": 5,
   "metadata": {},
   "outputs": [
    {
     "data": {
      "text/plain": [
       "(np.float64(-0.054969740980529175), np.float64(0.956162570529875))"
      ]
     },
     "execution_count": 5,
     "metadata": {},
     "output_type": "execute_result"
    }
   ],
   "source": [
    "dfControl = df[df[\"Group\"] == \"Control\"]\n",
    "dfTreatment = df[df[\"Group\"] == \"Treatment\"]\n",
    "\n",
    "ztest(dfControl[\"Score_A\"], dfTreatment['Score_A'], value=0)\n",
    "\n",
    "# H0: Không có sự khác biệt điểm A trung bình giữa nhóm Control và Treatment\n",
    "# H1: Có sự khác biệt điểm A trung bình giữa nhóm Control và Treatment\n",
    "\n",
    "# Do p-value 0.956162570529875 > 0.05 [ACCEPT H0]\n",
    "# Kết luận: không đủ bằng chứng để bác bỏ giả thuyết không có sự khác biệt\n",
    "# điểm A trung giữa nhóm Control và Treatment"
   ]
  },
  {
   "cell_type": "markdown",
   "metadata": {},
   "source": [
    "Câu 4: Có mối tương quan giữa tuổi và điểm số A không? Nếu có, mô tả tính chất của mối tương quan đó."
   ]
  },
  {
   "cell_type": "code",
   "execution_count": 6,
   "metadata": {},
   "outputs": [
    {
     "data": {
      "text/plain": [
       "PearsonRResult(statistic=np.float64(-0.11602331348032557), pvalue=np.float64(0.2503362018523023))"
      ]
     },
     "execution_count": 6,
     "metadata": {},
     "output_type": "execute_result"
    }
   ],
   "source": [
    "pearsonr(df[\"Score_A\"], df[\"Age\"])\n",
    "\n",
    "# H0: Không có mối tương quan giữa tuổi và điểm số A\n",
    "\n",
    "# pvalue là 0.2503362018523023 > 0.05 [ACCEPT H0]\n",
    "# Kết luận: không đủ dữ kiện để bác bỏ Không \n",
    "# có mối tương quan giữa tuổi và điểm số A\n",
    "\n",
    "# r = -0.11602331348032557. Tương quan ngược nhưng rất yếu"
   ]
  },
  {
   "cell_type": "markdown",
   "metadata": {},
   "source": [
    "Câu 5: Có sự khác biệt về điểm số B giữa các nhóm khác nhau trong biến Category (A, B, C) không?"
   ]
  },
  {
   "cell_type": "code",
   "execution_count": null,
   "metadata": {},
   "outputs": [
    {
     "name": "stdout",
     "output_type": "stream",
     "text": [
      "            df        sum_sq     mean_sq         F    PR(>F)\n",
      "Category   2.0    266.330191  133.165096  0.521118  0.595509\n",
      "Residual  97.0  24787.104076  255.537155       NaN       NaN\n"
     ]
    }
   ],
   "source": [
    "model = ols('Score_B ~ Category', data=df).fit()\n",
    "aov_table = sm.stats.anova_lm(model, typ=1)\n",
    "print(aov_table)\n",
    "\n",
    "# H0: Không có sự khác biệt gì giữa điểm số B với các nhóm Category\n",
    "\n",
    "# PR(>F) là 0.595 > 0.05 [ACCEPT H0]\n",
    "# Kết luận: không có đủ dữ kiện để bác bỏ giả thuyết không\n",
    "# có sự khác biệt gì giữa điểm số B với các nhóm Category\n",
    "# với độ tin cậy là 95%"
   ]
  },
  {
   "cell_type": "markdown",
   "metadata": {},
   "source": [
    "Câu 6: Kiểm tra xem thu nhập có ảnh hưởng đến khả năng mua hàng (Purchase) không?"
   ]
  },
  {
   "cell_type": "code",
   "execution_count": null,
   "metadata": {},
   "outputs": [
    {
     "name": "stdout",
     "output_type": "stream",
     "text": [
      "            df     sum_sq   mean_sq         F   PR(>F)\n",
      "Income     1.0   0.541663  0.541663  2.178358  0.14317\n",
      "Residual  98.0  24.368337  0.248657       NaN      NaN\n"
     ]
    }
   ],
   "source": [
    "model = ols('Purchase ~ Income', data=df).fit()\n",
    "aov_table = sm.stats.anova_lm(model, typ=1)\n",
    "print(aov_table)\n",
    "\n",
    "# H0: Thu nhập không có ảnh hưởng đến khả năng mua hàng (Purchase)\n",
    "\n",
    "# PR(>F) là 0.14 > 0.05 \n",
    "# Kết luận: không đủ dữ kiện để bắt bỏ thu nhập không \n",
    "# có ảnh hưởng đến khả năng mua hàng (Purchase) với\n",
    "# độ tin cậy 95%"
   ]
  },
  {
   "cell_type": "markdown",
   "metadata": {},
   "source": [
    "Câu 7: Kiểm tra xem thu nhập có ảnh hưởng đến khả năng mua hàng (Purchase) không?\n",
    "Tạo thêm một bảng loại thu nhập (income <= 30000 low, <= 60000 medium, còn lại high)"
   ]
  },
  {
   "cell_type": "code",
   "execution_count": null,
   "metadata": {},
   "outputs": [
    {
     "name": "stdout",
     "output_type": "stream",
     "text": [
      "p_value is : 0.47763126507564824\n"
     ]
    }
   ],
   "source": [
    "dfTemp = df.copy()\n",
    "\n",
    "def incomeGrouping(x):\n",
    "  if x <= 30000:\n",
    "    return \"Low\"\n",
    "  elif x <= 60000:\n",
    "    return \"Medium\"\n",
    "  return \"High\"\n",
    "\n",
    "dfTemp[\"IncomeGroup\"] = dfTemp[\"Income\"].apply(incomeGrouping)\n",
    "\n",
    "crosdata = pd.crosstab(dfTemp[\"IncomeGroup\"], df[\"Purchase\"], rownames=['IncomeGroup'], colnames=['Purchase'])\n",
    "chi2, p_value, dof, expected = stats.chi2_contingency(crosdata)\n",
    "print('p_value is : ' + str(p_value))\n",
    "\n",
    "# H0: Thu nhập không ảnh hưởng tới khả năng mua hàng\n",
    "\n",
    "# p_value is : 0.47763126507564824 > 0.05 [ACCEPT H0]\n",
    "# Không đủ dữ kiện để bác bỏ giả thuyết thu nhập \n",
    "# không ảnh hưởng tới khả năng mua hàng với độ\n",
    "# tin cậy 95%"
   ]
  },
  {
   "cell_type": "markdown",
   "metadata": {},
   "source": [
    "Câu 8: Có mối liên hệ nào giữa giới tính (Gender) và việc mua hàng (Purchase) không?"
   ]
  },
  {
   "cell_type": "code",
   "execution_count": null,
   "metadata": {},
   "outputs": [
    {
     "name": "stdout",
     "output_type": "stream",
     "text": [
      "p_value is : 0.7746563311906023\n"
     ]
    }
   ],
   "source": [
    "crosdata = pd.crosstab(dfTemp[\"Gender\"], df[\"Purchase\"], rownames=['Gender'], colnames=['Purchase'])\n",
    "chi2, p_value, dof, expected = stats.chi2_contingency(crosdata)\n",
    "print('p_value is : ' + str(p_value))\n",
    "\n",
    "\n",
    "# H0: Giới tính và việc mua hàng không có mối quan hệ nào\n",
    "\n",
    "# p_value is : 0.7746563311906023 > 0.05 [ACCEPT H0]\n",
    "# Không đủ dữ kiện để bác bỏ giả thuyết giới tính \n",
    "# và việc mua hàng không có mối quan hệ nào tin\n",
    "# cậy 95%"
   ]
  }
 ],
 "metadata": {
  "kernelspec": {
   "display_name": "Python 3",
   "language": "python",
   "name": "python3"
  },
  "language_info": {
   "codemirror_mode": {
    "name": "ipython",
    "version": 3
   },
   "file_extension": ".py",
   "mimetype": "text/x-python",
   "name": "python",
   "nbconvert_exporter": "python",
   "pygments_lexer": "ipython3",
   "version": "3.12.5"
  }
 },
 "nbformat": 4,
 "nbformat_minor": 2
}
