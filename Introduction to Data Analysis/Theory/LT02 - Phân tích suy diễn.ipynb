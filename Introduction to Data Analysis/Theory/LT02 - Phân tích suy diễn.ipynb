{
 "cells": [
  {
   "cell_type": "markdown",
   "metadata": {},
   "source": [
    "**Chuẩn bị các thư viện**"
   ]
  },
  {
   "cell_type": "code",
   "execution_count": 1,
   "metadata": {},
   "outputs": [],
   "source": [
    "import pandas as pd\n",
    "import scipy.stats as stats\n",
    "from statsmodels.stats.weightstats import ztest\n",
    "from scipy.stats import pearsonr, chi2_contingency\n",
    "import statsmodels.api as sm\n",
    "from statsmodels.formula.api import ols"
   ]
  },
  {
   "cell_type": "markdown",
   "metadata": {},
   "source": [
    "**Chuẩn bị dữ liệu**"
   ]
  },
  {
   "cell_type": "code",
   "execution_count": 2,
   "metadata": {},
   "outputs": [],
   "source": [
    "# Import dữ liệu, drop hàng trống và hàng trùng lặp\n",
    "df = pd.read_csv(\"data/dulieuxettuyendaihoc.csv\", header=0,delimiter=',',encoding=\"utf-8\").dropna(how=\"all\").drop_duplicates()\n",
    "\n",
    "# Convert các dữ liệu về đúng loại dữ liệu\n",
    "df[\"NGAYTHI\"] = pd.to_datetime(df[\"NGAYTHI\"])\n",
    "df[\"GT\"] = df[\"GT\"].astype(\"category\")\n",
    "\n",
    "\n",
    "# Fill những giá trị rỗng\n",
    "df[\"DT\"] = df[\"DT\"].fillna(df[\"DT\"].mode()[0])\n",
    "\n",
    "# Nên Fill bằng trung vị khi đó là trường định lượng\n",
    "# Nên Fill bằng mode khi đó là trường định tính\n",
    "\n",
    "df = df.rename(columns={\"NGAYTHI\":\"NT\", \"DINHHUONGNGHENGHIEP\":\"NGHE\"})\n",
    "dfKhoiC = df[df['KT'] == 'C']\n"
   ]
  },
  {
   "cell_type": "markdown",
   "metadata": {},
   "source": [
    "# Phân tích suy diễn (Inferential Analysis)\n",
    "Phân tích suy diễn là phương pháp sử dụng dữ liệu từ một mẫu nhỏ để đưa ra kết luận về tổng thể lớn hơn. Mục tiêu chính là xác định xem các mẫu dữ liệu có thể được suy ra một cách hợp lý để áp dụng cho toàn bộ tổng thể hay không. Điều này thường liên quan đến việc kiểm tra giả thuyết và ước tính khoảng tin cậy.\n",
    "### Ví dụ về Phân tích suy diễn\n",
    "Giả sử chúng ta muốn biết trung bình điểm thi môn 1 của thí sinh khối C. Chúng ta có thể đặt ra hai giả thuyết:\n",
    "* Giả thuyết không (H0): Trung bình điểm thi môn 1 của thí sinh khối C bằng 4.0 (μ = 4.0).\n",
    "* Giả thuyết đối (H1): Trung bình điểm thi môn 1 của thí sinh khối C khác 4.0 (μ ≠ 4.0).\n",
    "\n",
    "Chúng ta sử dụng thống kê (statistic) để đo lường sự khác biệt giữa giá trị trung bình thực tế từ dữ liệu mẫu và giá trị trung bình giả định. Giá trị p-value cho biết xác suất của dữ liệu quan sát được nếu giả thuyết không đúng.\n",
    "* Nếu p-value < alpha (ví dụ, 0.05), chúng ta bác bỏ giả thuyết không (H0).\n",
    "* Nếu p-value > alpha, chúng ta chấp nhận giả thuyết không (H0).\n",
    "### Các bước thực hiện phân tích suy diễn\n",
    "* 1. Xác định phương pháp suy diễn: Chọn loại kiểm định phù hợp (t-test, chi-square test, v.v.).\n",
    "* 2. Xác định điều kiện dữ liệu: Đảm bảo dữ liệu phù hợp với các giả định của phương pháp.\n",
    "* 3. Đặt giả thuyết (H0 và H1): Đưa ra các giả thuyết cần kiểm định.\n",
    "* 4. Xác định mức ý nghĩa (alpha): Mức độ chấp nhận sai lầm, thường là 5% (0.05).\n",
    "* 5. Chạy phân tích dữ liệu: Tính toán giá trị thống kê và p-value để đưa ra kết luận.\n",
    "### Kết luận\n",
    "Phân tích suy diễn giúp chúng ta đưa ra các quyết định dựa trên dữ liệu mẫu và đánh giá sự khác biệt so với chuẩn mực hoặc tiêu chuẩn. Nó cho phép chúng ta xác định các xu hướng và đưa ra dự đoán với một mức độ tin cậy nhất định, giúp hỗ trợ trong việc ra quyết định kinh doanh hoặc nghiên cứu khoa học."
   ]
  },
  {
   "cell_type": "markdown",
   "metadata": {},
   "source": [
    "# Kiểm định Z và T 1 mẫu (One-Sample Z-Test và One-Sample T-Test)\n",
    "Cả hai kiểm định đều được sử dụng để so sánh giá trị trung bình của một nhóm độc lập với một giá trị trung bình giả định của tổng thể (ví dụ, một giá trị chuẩn hoặc giá trị mục tiêu) để xác định xem có sự khác biệt có ý nghĩa thống kê giữa chúng hay không.\n",
    "\n",
    "### Cú pháp:\n",
    "```python\n",
    "stats.ttest_1samp(a, popmean= b)\n",
    "ztest(a, value = b)\n",
    "```\n",
    "### Tham số:\n",
    "* a: Mẫu đầu tiên (một mảng hoặc series).\n",
    "* b: giá trị.\n",
    "\n",
    "\n",
    "### Giả thuyết kiểm định:\n",
    "* **Giả thuyết không (H0):** Trung bình của mẫu a bằng với giá trị b (không có sự khác biệt giữa trung bình hai nhóm).\n",
    "* **Giả thuyết đối (H1):** Trung bình của mẫu a và giá trị b là khác nhau.\n",
    "\n",
    "\n"
   ]
  },
  {
   "cell_type": "code",
   "execution_count": 3,
   "metadata": {},
   "outputs": [
    {
     "data": {
      "text/plain": [
       "TtestResult(statistic=np.float64(7.650519779016341), pvalue=np.float64(3.6339826927369557e-06), df=np.int64(13))"
      ]
     },
     "execution_count": 3,
     "metadata": {},
     "output_type": "execute_result"
    }
   ],
   "source": [
    "stats.ttest_1samp(dfKhoiC['M1'], popmean= 4.00)\n",
    "\n",
    "# H0: \"Điểm trung bình M1 của khối C là 4.00\"\n",
    "\n",
    "# Do p-value là 3.63 * 10^-6 < 0.05 [REJECT H0]. \n",
    "# Kết luận: Có đủ dữ kiện để bác bỏ giả thuyết rằng điểm trung bình M1 của khối C là 4.00 với độ tin cậy là 95%"
   ]
  },
  {
   "cell_type": "code",
   "execution_count": 4,
   "metadata": {},
   "outputs": [
    {
     "data": {
      "text/plain": [
       "(np.float64(-29.907152266677993), np.float64(1.588509177330612e-196))"
      ]
     },
     "execution_count": 4,
     "metadata": {},
     "output_type": "execute_result"
    }
   ],
   "source": [
    "ztest(df['M1'], value = 8.0)\n",
    "\n",
    "# H0: \"Điểm trung bình M1 là 8.0\"\n",
    "# H1: \"Điểm trung bình M1 khác 8.0\"\n",
    "\n",
    "# Do p-value là 1.58 * 10^-196 [REJECT H0]\n",
    "# Kết luận: có đủ dữ kiện để bác bỏ giả thuyết rằng điểm trung bình M1 là  4.00 với độ tin cậy là 95%"
   ]
  },
  {
   "cell_type": "markdown",
   "metadata": {},
   "source": [
    "# Kiểm định Z và T 2 mẫu (Two-Sample Z-Test và Two-Sample T-Test)\n",
    "Cả hai kiểm định đều nhằm mục đích so sánh trung bình của hai nhóm độc lập để xác định xem có sự khác biệt có ý nghĩa thống kê giữa chúng hay không.\n",
    "\n",
    "### Cú pháp:\n",
    "```python\n",
    "stats.ttest_ind(a, b, equal_var=True)\n",
    "ztest(a, b, value=0)\n",
    "```\n",
    "### Tham số:\n",
    "* a: Mẫu đầu tiên (một mảng hoặc series).\n",
    "* b: Mẫu thứ hai (một mảng hoặc series).\n",
    "* equal_var: Một tham số boolean, mặc định là True. Nếu equal_var=True, giả định rằng hai mẫu có phương sai bằng nhau.\n",
    "* value: Bạn đang kiểm định giả thuyết rằng sự khác biệt trung bình giữa a và b là 0 (nghĩa là không có sự khác biệt)\n",
    "\n",
    "### Giả thuyết kiểm định:\n",
    "* **Giả thuyết không (H0):** Trung bình của hai mẫu là bằng nhau (không có sự khác biệt giữa trung bình hai nhóm).\n",
    "* **Giả thuyết đối (H1):** Trung bình của hai mẫu là khác nhau.\n",
    "\n",
    "### Trường hợp sử dụng\n",
    "* **ttest_ind** thường được sử dụng khi mẫu nhỏ (n < 30)\n",
    "* **ztest** thường được sử dụng với mẫu lớn (n >= 30) "
   ]
  },
  {
   "cell_type": "code",
   "execution_count": 5,
   "metadata": {},
   "outputs": [
    {
     "data": {
      "text/plain": [
       "TtestResult(statistic=np.float64(2.5331368604654054), pvalue=np.float64(0.017676922552296807), df=np.float64(26.0))"
      ]
     },
     "execution_count": 5,
     "metadata": {},
     "output_type": "execute_result"
    }
   ],
   "source": [
    "stats.ttest_ind(dfKhoiC['M1'], dfKhoiC['M2'], equal_var=True)\n",
    "\n",
    "# H0: \"Điểm trung bình khối C M1 và điểm trung bình khối C M2 bằng nhau\"\n",
    "\n",
    "# Do p-value là 0.017 < 0.05 [REJECT H0]\n",
    "# Kết luận: có đủ dữ kiện để bác bỏ giả thuyết rằng điểm điểm trung bình \n",
    "# khối C M1 và điểm trung bình khối C M2 bằng nhau với độ tin cậy 95%"
   ]
  },
  {
   "cell_type": "code",
   "execution_count": 6,
   "metadata": {},
   "outputs": [
    {
     "data": {
      "text/plain": [
       "TtestResult(statistic=np.float64(2.6321295849540447), pvalue=np.float64(0.014085909192033959), df=np.float64(26.0))"
      ]
     },
     "execution_count": 6,
     "metadata": {},
     "output_type": "execute_result"
    }
   ],
   "source": [
    "stats.ttest_ind(dfKhoiC['M1'], dfKhoiC['M3'], equal_var=True)\n",
    "\n",
    "# H0: \"Điểm trung bình khối C M1 và điểm trung bình khối C M3 bằng nhau\"\n",
    "# H1: Điểm trung bình khối C M1 và điểm trung bình khối C M3 khác nhau\"\n",
    "\n",
    "# Do p-value là 0.014 > 0.01 [ACCEPT H0]\n",
    "# Kết luận: không đủ dữ kiện để bác bỏ giả thuyết rằng điểm điểm trung bình \n",
    "# khối C M1 và điểm trung bình khối C M3 bằng nhau với độ tin cậy 95%"
   ]
  },
  {
   "cell_type": "code",
   "execution_count": 7,
   "metadata": {},
   "outputs": [
    {
     "data": {
      "text/plain": [
       "(np.float64(-2.9004757923795), np.float64(0.0037259661678783573))"
      ]
     },
     "execution_count": 7,
     "metadata": {},
     "output_type": "execute_result"
    }
   ],
   "source": [
    "ztest(df['M1'], df['M2'], value=0)\n",
    "\n",
    "# H0: \"Điểm trung bình M1 và điểm trung bình M2 bằng nhau\"\n",
    "# H1: \"Điểm trung bình M1 và điểm trung bình M2 khác nhau\"\n",
    "\n",
    "# Do p-value là 0.003 < 0.05 [REJECT H0]\n",
    "# Kết luận: đủ dữ kiện để bác bỏ điểm trung bình M1 và điểm trung bình M2 bằng nhau\n",
    "# với mức tin cậy 95%"
   ]
  },
  {
   "cell_type": "code",
   "execution_count": 8,
   "metadata": {},
   "outputs": [
    {
     "data": {
      "text/plain": [
       "(np.float64(-4.172765180703833), np.float64(3.009250404643791e-05))"
      ]
     },
     "execution_count": 8,
     "metadata": {},
     "output_type": "execute_result"
    }
   ],
   "source": [
    "ztest(df['M2'], df['M3'], value=0)\n",
    "\n",
    "# H0: \"Điểm trung bình M2 và điểm trung bình M3 bằng nhau\"\n",
    "# H1: \"Điểm trung bình M2 và điểm trung bình M3 khác nhau\"\n",
    "\n",
    "# Do p-value là 3 * 10^-5 < 0.05 [REJECT H0]\n",
    "# Kết luận: đủ dữ kiện để bác bỏ điểm trung bình M2 và điểm trung bình M3 bằng nhau\n",
    "# với mức tin cậy 95%"
   ]
  },
  {
   "cell_type": "markdown",
   "metadata": {},
   "source": [
    "# Kiểm định hệ số tương quan Pearson (Pearson Correlation Coefficient Test)\n",
    "Kiểm định hệ số tương quan Pearson được sử dụng để đo lường mức độ và hướng của mối quan hệ tuyến tính giữa hai biến liên tục (continuous variables).\n",
    "\n",
    "### Cú pháp:\n",
    "```python\n",
    "pearsonr(x, y)\n",
    "```\n",
    "\n",
    "### Tham số:\n",
    "* x: Mẫu đầu tiên (một mảng hoặc series).\n",
    "* y: Mẫu thứ hai (một mảng hoặc series).\n",
    "\n",
    "### Giả thuyết kiểm định:\n",
    "* Giả thuyết không (H0): Không có mối tương quan tuyến tính giữa hai biến (hệ số tương quan Pearson r = 0).\n",
    "* Giả thuyết đối (H1): Có mối tương quan tuyến tính giữa hai biến (hệ số tương quan Pearson r ≠ 0).\n",
    "\n",
    "### Kết quả trả về:\n",
    "* r: Hệ số tương quan Pearson (giá trị từ -1 đến 1).\n",
    "* p-value: Giá trị p-value để kiểm tra giả thuyết không. \n",
    "\n",
    "### Trường hợp sử dụng:\n",
    "* pearsonr thường được sử dụng để đo lường mức độ và hướng của mối quan hệ tuyến tính giữa hai biến liên tục (continuous variables)."
   ]
  },
  {
   "cell_type": "code",
   "execution_count": 9,
   "metadata": {},
   "outputs": [
    {
     "name": "stdout",
     "output_type": "stream",
     "text": [
      "PearsonRResult(statistic=np.float64(0.03515405725785023), pvalue=np.float64(0.7284198928723625))\n",
      "          M1        M2\n",
      "M1  1.000000  0.035154\n",
      "M2  0.035154  1.000000\n"
     ]
    }
   ],
   "source": [
    "print(pearsonr(df['M1'], df['M2']))\n",
    "print(df[[\"M1\", \"M2\"]].corr())\n",
    "\n",
    "# H0: \"Không có mối tương quan giữa điểm M1 và điểm M2\"\n",
    "# H1: \"Có mối tương quan giữa điểm M1 và điểm M2\"\n",
    "\n",
    "# p-value = 0.72 > 0.05 [ACCEPT H0]\n",
    "# Kết luận: không đủ dữ kiện để bác bỏ giả thuyết không có\n",
    "# mối tương quan giữa điểm M1 và điểm M2 với độ tin cậy\n",
    "# là 95%"
   ]
  },
  {
   "cell_type": "code",
   "execution_count": 10,
   "metadata": {},
   "outputs": [
    {
     "data": {
      "text/plain": [
       "PearsonRResult(statistic=np.float64(0.018730760164383135), pvalue=np.float64(0.8532534347055037))"
      ]
     },
     "execution_count": 10,
     "metadata": {},
     "output_type": "execute_result"
    }
   ],
   "source": [
    "pearsonr(df['M1'], df['M3'])\n",
    "# H0: \"Không có mối tương quan giữa điểm M1 và điểm M3\"\n",
    "# H1: \"Có mối tương quan giữa điểm M1 và điểm M3\"\n",
    "\n",
    "# p-value = 0.85 > 0.05 [ACCEPT H0]\n",
    "# Kết luận: không đủ dữ kiện để bác bỏ giả thuyết không có\n",
    "# mối tương quan giữa điểm M1 và điểm M3 với độ tin cậy\n",
    "# là 95%"
   ]
  },
  {
   "cell_type": "code",
   "execution_count": 11,
   "metadata": {},
   "outputs": [
    {
     "data": {
      "text/plain": [
       "PearsonRResult(statistic=np.float64(-0.09152288755408225), pvalue=np.float64(0.3651344767496172))"
      ]
     },
     "execution_count": 11,
     "metadata": {},
     "output_type": "execute_result"
    }
   ],
   "source": [
    "pearsonr(df['M2'], df['M3'])\n",
    "# H0: \"Không có mối tương quan giữa điểm M2 và điểm M3\"\n",
    "# H1: \"Có mối tương quan giữa điểm M2 và điểm M3\"\n",
    "\n",
    "# p-value = 0.36 > 0.05 [ACCEPT H0]\n",
    "# Kết luận: không đủ dữ kiện để bác bỏ giả thuyết không có\n",
    "# mối tương quan giữa điểm M2 và điểm M3 với độ tin cậy\n",
    "# là 95%"
   ]
  },
  {
   "cell_type": "markdown",
   "metadata": {},
   "source": [
    "# Kiểm định Fisher's Exact Test\n",
    "Kiểm định Fisher được sử dụng để kiểm tra xem hai biến định tính có phải là độc lập (không phụ thuộc) hay không. Đây là một kiểm định phi tham số phù hợp cho các bảng dự phòng nhỏ, đặc biệt là khi dữ liệu là nhị phân (mỗi biến chỉ có hai giá trị).\n",
    "\n",
    "### Cú pháp\n",
    "```python\n",
    "crosdata = pd.crosstab(a, b, rownames=['a'], colnames=['b'])\n",
    "odd_ratio, p_value = stats.fisher_exact(crosdata)\n",
    "print('odd ratio is : ' + str(odd_ratio))\n",
    "print('p_value is : ' + str(p_value))\n",
    "```\n",
    "\n",
    "### Tham số:\n",
    "* a: Mẫu đầu tiên (một mảng hoặc series).\n",
    "* b: Mẫu thứ hai (một mảng hoặc series).\n",
    "\n",
    "\n",
    "### Khi nào sử dụng Fisher's Exact Test?\n",
    "Khi có hai biến định tính và mỗi biến chỉ có hai giá trị (biến nhị phân).\n",
    "\n",
    "\n",
    "### Giả thuyết kiểm định:\n",
    "* H0 (Giả thuyết không): Hai biến là độc lập (không phụ thuộc)\n",
    "* H1 (Giả thuyết đối): Hai biến không độc lập (có phụ thuộc)\n",
    "\n",
    "### Kết quả kiểm định:\n",
    "* Odd Ratio: Tỷ số chênh lệch, đo lường mức độ liên quan giữa hai biến. Giá trị này không dùng để đưa ra quyết định bác bỏ hay không bác bỏ giả thuyết, mà chỉ để hiểu thêm về mối liên hệ giữa hai biến.\n",
    "* p-value: Giá trị p-value giúp kiểm tra giả thuyết không.\n"
   ]
  },
  {
   "cell_type": "code",
   "execution_count": 12,
   "metadata": {},
   "outputs": [
    {
     "name": "stdout",
     "output_type": "stream",
     "text": [
      "NGHE  No  Yes\n",
      "GT           \n",
      "F     23   25\n",
      "M     32   20\n",
      "odd ratio is : 0.575\n",
      "p_value is : 0.22763927303454412\n"
     ]
    }
   ],
   "source": [
    "crosdata = pd.crosstab(df['GT'], df['NGHE'], rownames=['GT'], colnames=['NGHE'])\n",
    "odd_ratio, p_value = stats.fisher_exact(crosdata)\n",
    "\n",
    "print(crosdata)\n",
    "print('odd ratio is : ' + str(odd_ratio))\n",
    "print('p_value is : ' + str(p_value))\n",
    "\n",
    "# H0: \"Giới tính và nghề nghiệp không phụ thuộc nhau\"\n",
    "# H1: \"Giới tính và nghề nghiệp phụ thuộc nhau\"\n",
    "\n",
    "# p-value = 0.22 > 0.05 [ACCEPT H0]\n",
    "# Kết luận: Không dữ kiện để bác bỏ giả thuyết không có\n",
    "# mối tương quan giữa điểm M2 và điểm M3 với độ tin cậy\n",
    "# là 95%"
   ]
  },
  {
   "cell_type": "markdown",
   "metadata": {},
   "source": [
    "# Kiểm định Chi-Square (Chi-Square Test of Independence)\n",
    "Kiểm định Chi-Square (Chi-Square Test of Independence) được sử dụng để kiểm tra xem hai biến định tính có phải là độc lập (không phụ thuộc) hay không. Đây là một kiểm định phi tham số thích hợp cho các bảng dự phòng lớn hơn, đặc biệt khi dữ liệu không nhất thiết phải là nhị phân và có thể có nhiều giá trị.\n",
    "\n",
    "### Cú pháp:\n",
    "```python\n",
    "crosdata = pd.crosstab(a, b, rownames=['a'], colnames=['b'])\n",
    "chi2, p_value, dof, expected = stats.chi2_contingency(crosdata)\n",
    "print('Chi-square statistic is : ' + str(chi2))\n",
    "print('p_value is : ' + str(p_value))\n",
    "print('Degrees of freedom : ' + str(dof))\n",
    "print('Expected frequencies : \\n' + str(expected))\n",
    "```\n",
    "\n",
    "### Tham số:\n",
    "* a: Mẫu đầu tiên (một mảng hoặc series).\n",
    "* b: Mẫu thứ hai (một mảng hoặc series).\n",
    "\n",
    "### Khi nào sử dụng Chi-Square Test?\n",
    "Kiểm định Chi-Square được sử dụng khi:\n",
    "* Có hai biến định tính và mỗi biến có thể có nhiều hơn hai giá trị.\n",
    "* Kích thước mẫu đủ lớn để đảm bảo rằng tần suất dự kiến của tất cả các ô trong bảng dự phòng là ít nhất 5.\n",
    "\n",
    "### Giả thuyết kiểm định:\n",
    "* H0 (Giả thuyết không): Hai biến là độc lập (không phụ thuộc).\n",
    "* H1 (Giả thuyết đối): Hai biến không độc lập (có phụ thuộc).\n",
    "\n",
    "### Kết quả kiểm định:\n",
    "* Chi-square statistic: Giá trị thống kê Chi-Square đo lường mức độ khác biệt giữa tần suất quan sát và tần suất dự kiến nếu hai biến là độc lập.\n",
    "* p-value: Giá trị p-value giúp kiểm tra giả thuyết không.\n",
    "* Degrees of freedom (dof): Số bậc tự do của kiểm định, phụ thuộc vào số lượng hàng và cột trong bảng dự phòng.\n",
    "* Expected frequencies: Tần suất dự kiến của các kết hợp giữa hai biến nếu chúng là độc lập."
   ]
  },
  {
   "cell_type": "code",
   "execution_count": 13,
   "metadata": {},
   "outputs": [
    {
     "name": "stdout",
     "output_type": "stream",
     "text": [
      "KT    A  A1  B  C  D1\n",
      "KV                   \n",
      "1    29   2  8  8  13\n",
      "2     9   0  0  2   8\n",
      "2NT  11   4  1  4   1\n",
      "\n",
      "\n",
      "p_value is : 0.02012461887796485\n"
     ]
    }
   ],
   "source": [
    "crosdata = pd.crosstab(index=df['KV'], columns=df['KT'], rownames=['KV'], colnames=['KT'])\n",
    "stat, p, dof, expected = chi2_contingency(crosdata)\n",
    "\n",
    "print(crosdata)\n",
    "print(\"\\n\") # break line\n",
    "print('p_value is : ' + str(p))\n",
    "\n",
    "# H0: \"Khu vực và kinh tế độc lập\"\n",
    "# H1: \"Khu vực và kinh tế phụ thuộc nhau\"\n",
    "\n",
    "# p-value = 0.02 < 0.05 [REJECT H0]\n",
    "# Kết luận: đủ kiện để bác bỏ giả thuyết khu vực \n",
    "# và kinh tế không phụ thuộc nhau độ tin cậy\n",
    "# là 95%\n"
   ]
  },
  {
   "cell_type": "markdown",
   "metadata": {},
   "source": [
    "# One-Way ANOVA (Phân tích phương sai một chiều)\n",
    "One-Way ANOVA được sử dụng để kiểm tra xem giá trị trung bình của một biến phụ thuộc có khác nhau giữa các nhóm được phân loại bởi một biến độc lập duy nhất hay không. Đây là một kiểm định thống kê thích hợp khi bạn muốn so sánh giá trị trung bình giữa ba nhóm trở lên dựa trên một yếu tố phân loại.\n",
    "\n",
    "### Cú pháp\n",
    "```python\n",
    "# Tạo mô hình hồi quy tuyến tính đơn giản\n",
    "model = ols('dependent_variable ~ independent_variable', data=df).fit()\n",
    "\n",
    "# Thực hiện kiểm định One-Way ANOVA\n",
    "aov_table = sm.stats.anova_lm(model, typ=1)\n",
    "aov_table\n",
    "```\n",
    "\n",
    "### Tham số:\n",
    "* dependent_variable: Biến phụ thuộc (liên tục) mà bạn muốn kiểm tra (ví dụ: điểm số, chiều cao, trọng lượng).\n",
    "* independent_variable: Biến độc lập (phân loại) mà các nhóm được phân loại theo (ví dụ: nhóm thuốc, giới tính, khu vực).\n",
    "* data: DataFrame chứa dữ liệu cần phân tích.\n",
    "\n",
    "### Khi nào sử dụng One-Way ANOVA?\n",
    "* Khi bạn có một biến phụ thuộc liên tục và một biến độc lập phân loại.\n",
    "* Khi bạn muốn kiểm tra xem có sự khác biệt có ý nghĩa thống kê giữa giá trị trung bình của các nhóm phân loại bởi biến độc lập hay không.\n",
    "\n",
    "### Giả thuyết kiểm định:\n",
    "* H0 (Giả thuyết không): Giá trị trung bình của biến phụ thuộc là như nhau cho tất cả các nhóm (không có sự khác biệt có ý nghĩa thống kê giữa các nhóm).\n",
    "* H1 (Giả thuyết đối): Ít nhất một nhóm có giá trị trung bình của biến phụ thuộc khác với các nhóm còn lại.\n",
    "\n",
    "### Kết quả kiểm định:\n",
    "* PR(>F): Đây là ký hiệu của p-value trong bảng ANOVA. Nó biểu thị xác suất để quan sát được một giá trị thống kê F lớn như đã quan sát (hoặc lớn hơn) nếu giả thuyết không (H0) là đúng.\n",
    "* F-statistic: Giá trị thống kê F được tính toán từ dữ liệu. F đo lường mức độ mà các nhóm khác nhau có phương sai khác nhau. Nếu giá trị F lớn và p-value nhỏ hơn mức ý nghĩa (ví dụ: 0.05), điều này cho thấy có sự khác biệt có ý nghĩa thống kê giữa các nhóm."
   ]
  },
  {
   "cell_type": "code",
   "execution_count": 14,
   "metadata": {},
   "outputs": [
    {
     "data": {
      "text/html": [
       "<div>\n",
       "<style scoped>\n",
       "    .dataframe tbody tr th:only-of-type {\n",
       "        vertical-align: middle;\n",
       "    }\n",
       "\n",
       "    .dataframe tbody tr th {\n",
       "        vertical-align: top;\n",
       "    }\n",
       "\n",
       "    .dataframe thead th {\n",
       "        text-align: right;\n",
       "    }\n",
       "</style>\n",
       "<table border=\"1\" class=\"dataframe\">\n",
       "  <thead>\n",
       "    <tr style=\"text-align: right;\">\n",
       "      <th></th>\n",
       "      <th>df</th>\n",
       "      <th>sum_sq</th>\n",
       "      <th>mean_sq</th>\n",
       "      <th>F</th>\n",
       "      <th>PR(&gt;F)</th>\n",
       "    </tr>\n",
       "  </thead>\n",
       "  <tbody>\n",
       "    <tr>\n",
       "      <th>GT</th>\n",
       "      <td>1.0</td>\n",
       "      <td>1.203141</td>\n",
       "      <td>1.203141</td>\n",
       "      <td>0.590538</td>\n",
       "      <td>0.444059</td>\n",
       "    </tr>\n",
       "    <tr>\n",
       "      <th>Residual</th>\n",
       "      <td>98.0</td>\n",
       "      <td>199.661859</td>\n",
       "      <td>2.037366</td>\n",
       "      <td>NaN</td>\n",
       "      <td>NaN</td>\n",
       "    </tr>\n",
       "  </tbody>\n",
       "</table>\n",
       "</div>"
      ],
      "text/plain": [
       "            df      sum_sq   mean_sq         F    PR(>F)\n",
       "GT         1.0    1.203141  1.203141  0.590538  0.444059\n",
       "Residual  98.0  199.661859  2.037366       NaN       NaN"
      ]
     },
     "execution_count": 14,
     "metadata": {},
     "output_type": "execute_result"
    }
   ],
   "source": [
    "model = ols('M1 ~ GT', data=df).fit()\n",
    "aov_table = sm.stats.anova_lm(model, typ=1)\n",
    "aov_table\n",
    "\n",
    "#H0: \"Điểm M1 không phụ thuộc vào giới tính\"\n",
    "#H1: \"Điểm M1 phụ thuộc vào giới tính\"\n",
    "\n",
    "# PR(>F) là 0.444 > 0.05 (ACCEPT H0)\n",
    "# Kết luận không đủ dữ kiện để bác bỏ điểm\n",
    "# M1 không phụ thuộc vào giới tính với độ\n",
    "# tin cậy là 95%"
   ]
  },
  {
   "cell_type": "code",
   "execution_count": 15,
   "metadata": {},
   "outputs": [
    {
     "data": {
      "text/html": [
       "<div>\n",
       "<style scoped>\n",
       "    .dataframe tbody tr th:only-of-type {\n",
       "        vertical-align: middle;\n",
       "    }\n",
       "\n",
       "    .dataframe tbody tr th {\n",
       "        vertical-align: top;\n",
       "    }\n",
       "\n",
       "    .dataframe thead th {\n",
       "        text-align: right;\n",
       "    }\n",
       "</style>\n",
       "<table border=\"1\" class=\"dataframe\">\n",
       "  <thead>\n",
       "    <tr style=\"text-align: right;\">\n",
       "      <th></th>\n",
       "      <th>df</th>\n",
       "      <th>sum_sq</th>\n",
       "      <th>mean_sq</th>\n",
       "      <th>F</th>\n",
       "      <th>PR(&gt;F)</th>\n",
       "    </tr>\n",
       "  </thead>\n",
       "  <tbody>\n",
       "    <tr>\n",
       "      <th>KV</th>\n",
       "      <td>2.0</td>\n",
       "      <td>6.053398</td>\n",
       "      <td>3.026699</td>\n",
       "      <td>2.790934</td>\n",
       "      <td>0.066299</td>\n",
       "    </tr>\n",
       "    <tr>\n",
       "      <th>Residual</th>\n",
       "      <td>97.0</td>\n",
       "      <td>105.194102</td>\n",
       "      <td>1.084475</td>\n",
       "      <td>NaN</td>\n",
       "      <td>NaN</td>\n",
       "    </tr>\n",
       "  </tbody>\n",
       "</table>\n",
       "</div>"
      ],
      "text/plain": [
       "            df      sum_sq   mean_sq         F    PR(>F)\n",
       "KV         2.0    6.053398  3.026699  2.790934  0.066299\n",
       "Residual  97.0  105.194102  1.084475       NaN       NaN"
      ]
     },
     "execution_count": 15,
     "metadata": {},
     "output_type": "execute_result"
    }
   ],
   "source": [
    "model = ols('M2 ~ KV', data=df).fit()\n",
    "aov_table = sm.stats.anova_lm(model, typ=1)\n",
    "aov_table\n",
    "\n",
    "#H0: \"Điểm M2 không phụ thuộc vào khu vực\"\n",
    "#H1: \"Điểm M2 phụ thuộc vào khu vực\"\n",
    "\n",
    "# PR(>F) là 0.066299 > 0.05 (ACCEPT H0)\n",
    "# Kết luận không đủ dữ kiện để bác bỏ điểm\n",
    "# M2 không phụ thuộc vào phụ thuộc với độ\n",
    "# tin cậy là 95%"
   ]
  },
  {
   "cell_type": "code",
   "execution_count": 16,
   "metadata": {},
   "outputs": [
    {
     "data": {
      "text/html": [
       "<div>\n",
       "<style scoped>\n",
       "    .dataframe tbody tr th:only-of-type {\n",
       "        vertical-align: middle;\n",
       "    }\n",
       "\n",
       "    .dataframe tbody tr th {\n",
       "        vertical-align: top;\n",
       "    }\n",
       "\n",
       "    .dataframe thead th {\n",
       "        text-align: right;\n",
       "    }\n",
       "</style>\n",
       "<table border=\"1\" class=\"dataframe\">\n",
       "  <thead>\n",
       "    <tr style=\"text-align: right;\">\n",
       "      <th></th>\n",
       "      <th>df</th>\n",
       "      <th>sum_sq</th>\n",
       "      <th>mean_sq</th>\n",
       "      <th>F</th>\n",
       "      <th>PR(&gt;F)</th>\n",
       "    </tr>\n",
       "  </thead>\n",
       "  <tbody>\n",
       "    <tr>\n",
       "      <th>KT</th>\n",
       "      <td>4.0</td>\n",
       "      <td>3.967636</td>\n",
       "      <td>0.991909</td>\n",
       "      <td>0.911814</td>\n",
       "      <td>0.46041</td>\n",
       "    </tr>\n",
       "    <tr>\n",
       "      <th>Residual</th>\n",
       "      <td>95.0</td>\n",
       "      <td>103.344864</td>\n",
       "      <td>1.087841</td>\n",
       "      <td>NaN</td>\n",
       "      <td>NaN</td>\n",
       "    </tr>\n",
       "  </tbody>\n",
       "</table>\n",
       "</div>"
      ],
      "text/plain": [
       "            df      sum_sq   mean_sq         F   PR(>F)\n",
       "KT         4.0    3.967636  0.991909  0.911814  0.46041\n",
       "Residual  95.0  103.344864  1.087841       NaN      NaN"
      ]
     },
     "execution_count": 16,
     "metadata": {},
     "output_type": "execute_result"
    }
   ],
   "source": [
    "model = ols('M3 ~ KT', data=df).fit()\n",
    "aov_table = sm.stats.anova_lm(model, typ=1)\n",
    "aov_table\n",
    "\n",
    "#H0: \"Điểm M3 không phụ thuộc vào khối thi\"\n",
    "#H1: \"Điểm M3 phụ thuộc vào khối thi\"\n",
    "\n",
    "# PR(>F) là 0.46041 > 0.05 (ACCEPT H0)\n",
    "# Kết luận không đủ dữ kiện để bác bỏ điểm\n",
    "# Điểm M3 không phụ thuộc vào khối thi với\n",
    "# tin cậy là 95%"
   ]
  },
  {
   "cell_type": "markdown",
   "metadata": {},
   "source": [
    "# Two-Way ANOVA (Phân tích phương sai hai chiều)\n",
    "Two-Way ANOVA (Phân tích phương sai hai chiều) là một phương pháp thống kê được sử dụng để kiểm tra tác động đồng thời của hai biến độc lập (yếu tố) lên một biến phụ thuộc liên tục. Nó cũng cho phép kiểm tra xem liệu có sự tương tác giữa hai yếu tố này không.\n",
    "\n",
    "### Khi nào sử dụng Two-Way ANOVA?\n",
    "* Khi bạn có một biến phụ thuộc liên tục (continuous dependent variable) và hai biến độc lập phân loại (categorical independent variables).\n",
    "* Khi bạn muốn kiểm tra xem cả hai yếu tố này (và sự tương tác giữa chúng) có ảnh hưởng đến giá trị trung bình của biến phụ thuộc hay không.\n",
    "\n",
    "### Cú pháp\n",
    "```python\n",
    "# Tạo mô hình hồi quy tuyến tính bao gồm hai yếu tố độc lập và sự tương tác giữa chúng\n",
    "model = ols('dependent_variable ~ C(factor1) + C(factor2) + C(factor1):C(factor2)', data=df).fit()\n",
    "\n",
    "# Thực hiện kiểm định Two-Way ANOVA\n",
    "anova_table = sm.stats.anova_lm(model, typ=2)\n",
    "print(anova_table)\n",
    "```\n",
    "\n",
    "### Tham số\n",
    "* dependent_variable: Biến phụ thuộc (liên tục) mà bạn muốn kiểm tra (ví dụ: điểm số, chiều cao, trọng lượng).\n",
    "* factor1, factor2: Hai biến độc lập phân loại mà bạn muốn kiểm tra ảnh hưởng của chúng lên biến phụ thuộc (ví dụ: Giới tính, Loại thuốc).\n",
    "* data: DataFrame chứa dữ liệu cần phân tích.\n",
    "* C(factor1), C(factor2): Biến phân loại hóa (categorical) cho ANOVA. C() được dùng để chỉ định biến phân loại.\n",
    "\n",
    "### Giả thuyết kiểm định\n",
    "Two-Way ANOVA kiểm tra ba giả thuyết chính:\n",
    "* 1. H0 cho yếu tố 1 (factor1): Trung bình của biến phụ thuộc là như nhau cho tất cả các mức của yếu tố 1.\n",
    "* 2. H0 cho yếu tố 2 (factor2): Trung bình của biến phụ thuộc là như nhau cho tất cả các mức của yếu tố 2.\n",
    "* 3. H0 cho sự tương tác giữa hai yếu tố (interaction): Không có sự tương tác có ý nghĩa thống kê giữa yếu tố 1 và yếu tố 2. Điều này có nghĩa là ảnh hưởng của một yếu tố lên biến phụ thuộc là như nhau ở tất cả các mức của yếu tố kia.\n"
   ]
  },
  {
   "cell_type": "code",
   "execution_count": 17,
   "metadata": {},
   "outputs": [
    {
     "name": "stdout",
     "output_type": "stream",
     "text": [
      "            df      sum_sq   mean_sq         F    PR(>F)\n",
      "GT         1.0    1.203141  1.203141  0.598960  0.440917\n",
      "KV         2.0    3.493206  1.746603  0.869512  0.422500\n",
      "GT:KV      2.0    7.349290  3.674645  1.829350  0.166186\n",
      "Residual  94.0  188.819363  2.008717       NaN       NaN\n"
     ]
    }
   ],
   "source": [
    "model = ols('M1 ~ GT + KV + GT:KV',data=df).fit()\n",
    "result = sm.stats.anova_lm(model, type=2)\n",
    "print(result)\n",
    "\n",
    "\n",
    "# Two Way Anoway\n",
    "# H0 Factor 1: điểm TB M1 không phụ thuộc vào giới tính\n",
    "# H0 Factor 2: điểm TB M1 không phụ thuộc vào khu vực\n",
    "# H0: M1 không phụ thuộc vào giới tính và khu vực\n",
    "\n",
    "# PR(>F) Factor 1 là 0.44 > 0.05 (Accept H0 Factor 1)\n",
    "# Kết luận 1: Không đủ dữ kiện để bắt bỏ M1 không phụ\n",
    "# thuộc vào giới tính với độ tin cậy 95%\n",
    "\n",
    "# PR(>F) Factor 2 là 0.42 > 0.05 (Accept H0 Factor 2)\n",
    "# thuộc vào khu vực với độ tin cậy 95%\n",
    "\n",
    "# PR(>F) là 0.16 > 0.05 (Accept H0)\n",
    "# Kết luận: Không đủ dữ kiện để bắt bỏ M1 không có\n",
    "# sự tương tác giữa khu vực và giới tính với độ tin \n",
    "# cậy 95%"
   ]
  },
  {
   "cell_type": "code",
   "execution_count": 18,
   "metadata": {},
   "outputs": [
    {
     "name": "stdout",
     "output_type": "stream",
     "text": [
      "            df     sum_sq   mean_sq         F    PR(>F)\n",
      "KV         2.0   6.053398  3.026699  2.987203  0.055626\n",
      "KT         4.0  10.061984  2.515496  2.482671  0.049539\n",
      "KV:KT      8.0   8.688324  1.086040  1.071869  0.390293\n",
      "Residual  87.0  88.150282  1.013222       NaN       NaN\n"
     ]
    }
   ],
   "source": [
    "model = ols('M2 ~ KV + KT + KV:KT',data=df).fit()\n",
    "result = sm.stats.anova_lm(model, type=2)\n",
    "print(result)\n",
    "\n",
    "\n",
    "# Two Way Anoway\n",
    "# H0 Factor 1: điểm TB M2 không phụ thuộc vào khối thi\n",
    "# H0 Factor 2: điểm TB M2 không phụ thuộc vào khu vực\n",
    "# H0: M2 không phụ thuộc vào giới tính và khu vực\n",
    "\n",
    "# PR(>F) Factor 1 là 0.055 > 0.05 (Accept H0 Factor 1)\n",
    "# Kết luận 1: Không đủ dữ kiện để bắt bỏ M2 không phụ\n",
    "# thuộc vào khu vực với độ tin cậy 95%\n",
    "\n",
    "# PR(>F) Factor 2 là 0.049 < 0.05 (Reject H0 Factor 2)\n",
    "# Kết luận 2: đủ dữ kiện để bắt bỏ M2 không phụ\n",
    "# thuộc vào khối thi với độ tin cậy 95%\n",
    "\n",
    "# PR(>F) là 0.39 > 0.05 (Accept H0)\n",
    "# Kết luận: Không đủ dữ kiện để bắt bỏ M2 không có\n",
    "# sự tương tác giữa khu vực và khối thi với \n",
    "# độ tin cậy 95%"
   ]
  },
  {
   "cell_type": "markdown",
   "metadata": {},
   "source": [
    "# Kiểm định Hồi quy Tuyến tính Đơn giản (Simple Linear Regression)\n",
    "Hồi quy tuyến tính đơn giản được sử dụng để mô hình hóa mối quan hệ giữa một biến phụ thuộc (biến đầu ra) và một biến độc lập (biến dự báo). Mục tiêu là tìm ra đường thẳng (hàm tuyến tính) phù hợp nhất để dự đoán giá trị của biến phụ thuộc dựa trên biến độc lập.\n",
    "\n",
    "### Cú pháp\n",
    "```python\n",
    "# Hồi quy giữa M1 và M3 \n",
    "X_with_constant = sm.add_constant(df[[\"M1\", \"M2\"]].values)  # Thêm hằng số (constant)\n",
    "y = df[['M3']].values  # Biến phụ thuộc\n",
    "result = sm.OLS(y, X_with_constant).fit()  # Thực hiện hồi quy OLS\n",
    "print(result.summary())  # In kết quả\n",
    "```\n",
    "### Tham số:\n",
    "* X_with_constant: Biến độc lập (predictor) đã được thêm hằng số (constant). Việc thêm hằng số là cần thiết để ước tính hệ số chặn (intercept) trong mô hình hồi quy.\n",
    "* y: Biến phụ thuộc (outcome), trong trường hợp này là M3.\n",
    "* sm.OLS(y, X_with_constant): Hàm để thực hiện hồi quy tuyến tính đơn giản sử dụng Ordinary Least Squares (OLS).\n",
    "* fit(): Phương thức để thực hiện việc khớp mô hình hồi quy tuyến tính.\n",
    "\n",
    "### Khi nào sử dụng Hồi quy Tuyến tính Đơn giản?\n",
    "* Khi bạn muốn tìm hiểu mối quan hệ giữa hai biến, một biến độc lập và một biến phụ thuộc.\n",
    "* Khi bạn muốn dự đoán giá trị của biến phụ thuộc dựa trên biến độc lập.\n",
    "* Khi dữ liệu có mối quan hệ tuyến tính giữa biến độc lập và biến phụ thuộc.\n",
    "\n",
    "\n",
    "\n",
    "### Ý nghĩa của R-squared:\n",
    "* R-squared có giá trị từ 0 đến 1\n",
    "  * R-squared = 0: Mô hình hồi quy không giải thích được sự biến thiên nào trong biến phụ thuộc. Nói cách khác, các biến độc lập không đóng góp vào việc dự đoán biến phụ thuộc.\n",
    "  * R-squared = 1: Mô hình hồi quy giải thích được 100% sự biến thiên trong biến phụ thuộc. Tất cả sự thay đổi của biến phụ thuộc được mô tả hoàn toàn bởi các biến độc lập.\n",
    "  * R-squared giữa 0 và 1: Ví dụ, R-squared = 0.6 (60%) có nghĩa là 60% sự biến thiên của biến phụ thuộc được giải thích bởi các biến độc lập trong mô hình. 40% còn lại có thể được gây ra bởi các yếu tố khác không có trong mô hình.\n",
    "\n",
    "### Ý nghĩa coef (Coefficients):\n",
    "* Đây là các hệ số hồi quy cho các biến độc lập và hệ số chặn (intercept). Hệ số này cho biết mức độ thay đổi của biến phụ thuộc khi biến độc lập thay đổi một đơn vị, giả sử các biến khác không thay đổi.\n",
    "* Ví dụ: Trong bảng của bạn, hệ số của M1 (x1) là 0.0137, có nghĩa là nếu M1 tăng lên 1 đơn vị, M3 sẽ tăng thêm trung bình 0.0137 đơn vị, giả định các yếu tố khác không thay đổi.\n",
    "\n",
    "### Ý nghĩa P>|t|:\n",
    "* P>|t| là giá trị p-value cho kiểm định t của mỗi hệ số hồi quy trong mô hình. Nó cho biết liệu có đủ bằng chứng thống kê để bác bỏ giả thuyết không rằng hệ số hồi quy đó bằng 0 hay không.\n",
    "* H0 (Giả thuyết không) cho mỗi hệ số hồi quy (β): Hệ số hồi quy (β) = 0.\n",
    "* Nếu P>|t| < 0.05: Có đủ bằng chứng thống kê để bác bỏ giả thuyết không. Điều này có nghĩa là hệ số khác 0 và biến độc lập có ảnh hưởng đáng kể đến biến phụ thuộc.\n",
    "* Nếu P>|t| >= 0.05: Không có đủ bằng chứng thống kê để bác bỏ giả thuyết không. Điều này cho thấy hệ số có thể bằng 0, và biến độc lập có thể không có ảnh hưởng đáng kể đến biến phụ thuộc."
   ]
  },
  {
   "cell_type": "code",
   "execution_count": 19,
   "metadata": {},
   "outputs": [
    {
     "name": "stdout",
     "output_type": "stream",
     "text": [
      "                            OLS Regression Results                            \n",
      "==============================================================================\n",
      "Dep. Variable:                      y   R-squared:                       0.000\n",
      "Model:                            OLS   Adj. R-squared:                 -0.010\n",
      "Method:                 Least Squares   F-statistic:                   0.03439\n",
      "Date:                Sun, 20 Oct 2024   Prob (F-statistic):              0.853\n",
      "Time:                        14:22:44   Log-Likelihood:                -145.41\n",
      "No. Observations:                 100   AIC:                             294.8\n",
      "Df Residuals:                      98   BIC:                             300.0\n",
      "Df Model:                           1                                         \n",
      "Covariance Type:            nonrobust                                         \n",
      "==============================================================================\n",
      "                 coef    std err          t      P>|t|      [0.025      0.975]\n",
      "------------------------------------------------------------------------------\n",
      "const          4.8238      0.295     16.338      0.000       4.238       5.410\n",
      "x1             0.0137      0.074      0.185      0.853      -0.133       0.160\n",
      "==============================================================================\n",
      "Omnibus:                        6.663   Durbin-Watson:                   1.749\n",
      "Prob(Omnibus):                  0.036   Jarque-Bera (JB):                6.173\n",
      "Skew:                           0.586   Prob(JB):                       0.0457\n",
      "Kurtosis:                       3.327   Cond. No.                         11.9\n",
      "==============================================================================\n",
      "\n",
      "Notes:\n",
      "[1] Standard Errors assume that the covariance matrix of the errors is correctly specified.\n"
     ]
    }
   ],
   "source": [
    "X_with_constant = sm.add_constant(df[[\"M1\"]].values)\n",
    "y = df[['M3']].values\n",
    "result = sm.OLS(y, X_with_constant).fit()\n",
    "print(result.summary())\n",
    "\n",
    "\n",
    "# Công thức hồi quy: M3  = 4.8238+ 0.0137 × M1"
   ]
  },
  {
   "cell_type": "code",
   "execution_count": 20,
   "metadata": {},
   "outputs": [
    {
     "name": "stdout",
     "output_type": "stream",
     "text": [
      "                            OLS Regression Results                            \n",
      "==============================================================================\n",
      "Dep. Variable:                      y   R-squared:                       0.008\n",
      "Model:                            OLS   Adj. R-squared:                 -0.002\n",
      "Method:                 Least Squares   F-statistic:                    0.8278\n",
      "Date:                Sun, 20 Oct 2024   Prob (F-statistic):              0.365\n",
      "Time:                        14:22:44   Log-Likelihood:                -145.00\n",
      "No. Observations:                 100   AIC:                             294.0\n",
      "Df Residuals:                      98   BIC:                             299.2\n",
      "Df Model:                           1                                         \n",
      "Covariance Type:            nonrobust                                         \n",
      "==============================================================================\n",
      "                 coef    std err          t      P>|t|      [0.025      0.975]\n",
      "------------------------------------------------------------------------------\n",
      "const          5.2575      0.433     12.139      0.000       4.398       6.117\n",
      "x1            -0.0899      0.099     -0.910      0.365      -0.286       0.106\n",
      "==============================================================================\n",
      "Omnibus:                        8.856   Durbin-Watson:                   1.716\n",
      "Prob(Omnibus):                  0.012   Jarque-Bera (JB):                8.604\n",
      "Skew:                           0.639   Prob(JB):                       0.0135\n",
      "Kurtosis:                       3.658   Cond. No.                         19.1\n",
      "==============================================================================\n",
      "\n",
      "Notes:\n",
      "[1] Standard Errors assume that the covariance matrix of the errors is correctly specified.\n"
     ]
    }
   ],
   "source": [
    "X_with_constant = sm.add_constant(df[[\"M2\"]].values)\n",
    "y = df[['M3']].values\n",
    "result = sm.OLS(y, X_with_constant).fit()\n",
    "print(result.summary())\n",
    "\n",
    "\n",
    "# M3 = 5.26 - 0.09 * M2 = 4.74"
   ]
  },
  {
   "cell_type": "code",
   "execution_count": 21,
   "metadata": {},
   "outputs": [
    {
     "name": "stdout",
     "output_type": "stream",
     "text": [
      "                            OLS Regression Results                            \n",
      "==============================================================================\n",
      "Dep. Variable:                      y   R-squared:                       0.009\n",
      "Model:                            OLS   Adj. R-squared:                 -0.012\n",
      "Method:                 Least Squares   F-statistic:                    0.4335\n",
      "Date:                Sun, 20 Oct 2024   Prob (F-statistic):              0.649\n",
      "Time:                        14:22:44   Log-Likelihood:                -144.98\n",
      "No. Observations:                 100   AIC:                             296.0\n",
      "Df Residuals:                      97   BIC:                             303.8\n",
      "Df Model:                           2                                         \n",
      "Covariance Type:            nonrobust                                         \n",
      "==============================================================================\n",
      "                 coef    std err          t      P>|t|      [0.025      0.975]\n",
      "------------------------------------------------------------------------------\n",
      "const          5.2006      0.508     10.241      0.000       4.193       6.209\n",
      "x1             0.0161      0.074      0.217      0.828      -0.131       0.163\n",
      "x2            -0.0906      0.099     -0.912      0.364      -0.288       0.107\n",
      "==============================================================================\n",
      "Omnibus:                        8.456   Durbin-Watson:                   1.724\n",
      "Prob(Omnibus):                  0.015   Jarque-Bera (JB):                8.119\n",
      "Skew:                           0.626   Prob(JB):                       0.0173\n",
      "Kurtosis:                       3.619   Cond. No.                         29.0\n",
      "==============================================================================\n",
      "\n",
      "Notes:\n",
      "[1] Standard Errors assume that the covariance matrix of the errors is correctly specified.\n"
     ]
    }
   ],
   "source": [
    "X_with_constant = sm.add_constant(df[[\"M1\",\"M2\"]].values)\n",
    "y = df[['M3']].values\n",
    "result = sm.OLS(y, X_with_constant).fit()\n",
    "print(result.summary())\n",
    "\n",
    "\n",
    "# M3 = 5.2575 + A1 * M1 + A2 * M2 "
   ]
  },
  {
   "cell_type": "code",
   "execution_count": 22,
   "metadata": {},
   "outputs": [
    {
     "name": "stdout",
     "output_type": "stream",
     "text": [
      "                                 OLS Regression Results                                \n",
      "=======================================================================================\n",
      "Dep. Variable:                      y   R-squared (uncentered):                   0.911\n",
      "Model:                            OLS   Adj. R-squared (uncentered):              0.909\n",
      "Method:                 Least Squares   F-statistic:                              500.8\n",
      "Date:                Sun, 20 Oct 2024   Prob (F-statistic):                    3.54e-52\n",
      "Time:                        14:22:44   Log-Likelihood:                         -181.63\n",
      "No. Observations:                 100   AIC:                                      367.3\n",
      "Df Residuals:                      98   BIC:                                      372.5\n",
      "Df Model:                           2                                                  \n",
      "Covariance Type:            nonrobust                                                  \n",
      "==============================================================================\n",
      "                 coef    std err          t      P>|t|      [0.025      0.975]\n",
      "------------------------------------------------------------------------------\n",
      "x1             0.4062      0.091      4.466      0.000       0.226       0.587\n",
      "x2             0.7367      0.083      8.879      0.000       0.572       0.901\n",
      "==============================================================================\n",
      "Omnibus:                        3.155   Durbin-Watson:                   1.975\n",
      "Prob(Omnibus):                  0.206   Jarque-Bera (JB):                2.527\n",
      "Skew:                          -0.358   Prob(JB):                        0.283\n",
      "Kurtosis:                       3.306   Cond. No.                         4.65\n",
      "==============================================================================\n",
      "\n",
      "Notes:\n",
      "[1] R² is computed without centering (uncentered) since the model does not contain a constant.\n",
      "[2] Standard Errors assume that the covariance matrix of the errors is correctly specified.\n"
     ]
    }
   ],
   "source": [
    "X = df[[\"M1\",\"M2\"]].values\n",
    "y = df[['M3']].values\n",
    "result = sm.OLS(y, X).fit()\n",
    "print(result.summary())"
   ]
  }
 ],
 "metadata": {
  "kernelspec": {
   "display_name": "Python 3",
   "language": "python",
   "name": "python3"
  },
  "language_info": {
   "codemirror_mode": {
    "name": "ipython",
    "version": 3
   },
   "file_extension": ".py",
   "mimetype": "text/x-python",
   "name": "python",
   "nbconvert_exporter": "python",
   "pygments_lexer": "ipython3",
   "version": "3.12.5"
  }
 },
 "nbformat": 4,
 "nbformat_minor": 2
}
