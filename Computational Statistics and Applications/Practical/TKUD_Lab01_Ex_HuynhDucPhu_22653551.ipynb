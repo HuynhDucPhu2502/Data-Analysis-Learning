{
 "cells": [
  {
   "cell_type": "markdown",
   "metadata": {
    "id": "Cj3g7_Xjv0cQ"
   },
   "source": [
    "# Lab 01 - Bài tập"
   ]
  },
  {
   "cell_type": "markdown",
   "metadata": {
    "id": "uHya_O8Nv9Bg"
   },
   "source": [
    "## PYTHON\n"
   ]
  },
  {
   "cell_type": "markdown",
   "metadata": {},
   "source": [
    "1. Viết chương trình nhập vào số nguyên n (n>0). In ra các số nguyên tố từ 1..n\n"
   ]
  },
  {
   "cell_type": "code",
   "execution_count": 54,
   "metadata": {
    "id": "AnQZ06Hxxwlo"
   },
   "outputs": [
    {
     "name": "stdout",
     "output_type": "stream",
     "text": [
      "Nhập số nguyên dương:  30\n"
     ]
    },
    {
     "name": "stdout",
     "output_type": "stream",
     "text": [
      "3 5 7 11 13 17 19 23 29 "
     ]
    }
   ],
   "source": [
    "import math\n",
    "\n",
    "n = int(input(\"Nhập số nguyên dương: \"))\n",
    "\n",
    "def is_prime_number(value):\n",
    "    if value == 2:\n",
    "        return True\n",
    "    if value % 2 == 0 or value < 2:\n",
    "        return False\n",
    "    value_sqrt = math.sqrt(value) + 1\n",
    "    for i in range(3, int(value_sqrt), 2):\n",
    "        if value % i == 0:\n",
    "            return False\n",
    "    return True\n",
    "\n",
    "if n >= 1:\n",
    "    for i in range(3, n):\n",
    "        if is_prime_number(i):\n",
    "            print(i, end=\" \")\n",
    "else:\n",
    "    print(\"Phải là một con số nguyên dương\")\n"
   ]
  },
  {
   "cell_type": "markdown",
   "metadata": {
    "id": "XpmGHRLRxx34"
   },
   "source": [
    "2. Viết chương trình nhập vào số nguyên n có 3 chữ số. Tính tổng các chữ số của n"
   ]
  },
  {
   "cell_type": "code",
   "execution_count": 13,
   "metadata": {
    "id": "AXOFJ9Iwvtvh"
   },
   "outputs": [
    {
     "name": "stdout",
     "output_type": "stream",
     "text": [
      "Nhập con số thứ 1: 1\n",
      "Nhập con số thứ 2: 2\n",
      "Nhập con số thứ 3: 3\n"
     ]
    },
    {
     "name": "stdout",
     "output_type": "stream",
     "text": [
      "Tổng 3 số là 6\n"
     ]
    }
   ],
   "source": [
    "sum = 0\n",
    "for i in range(0,3):\n",
    "    sum += int(input(\"Nhập con số thứ \" + str(i + 1) + \":\"))\n",
    "\n",
    "print(\"Tổng 3 số là \" + str(sum))"
   ]
  },
  {
   "cell_type": "markdown",
   "metadata": {
    "id": "oba6gvmwyFrZ"
   },
   "source": [
    "3. Viết chương trình nhập vào một dãy các số nguyên được cách nhau bởi khoảng trắng (VD: 32 8 4 6 9...) lưu vào python ở dạng mảng. Thực hiện\n",
    "\n",
    "- Xuất mảng\n",
    "- Tính tổng các phần tử của mảng\n",
    "- Tìm số lớn nhất\n",
    "- Tìm số bé nhất\n",
    "- Sắp xếp mảng theo thứ tự giảm dần\n",
    "- In ra các số chẵn trong mảng"
   ]
  },
  {
   "cell_type": "code",
   "execution_count": 23,
   "metadata": {
    "id": "9XBwANmGyFyY"
   },
   "outputs": [
    {
     "name": "stdout",
     "output_type": "stream",
     "text": [
      "Nhập số lượng mảng cần khởi tạo 5\n",
      "Nhập con số thứ 1: 24\n",
      "Nhập con số thứ 2: 17\n",
      "Nhập con số thứ 3: 18\n",
      "Nhập con số thứ 4: 100\n",
      "Nhập con số thứ 5: 39\n"
     ]
    },
    {
     "name": "stdout",
     "output_type": "stream",
     "text": [
      "Danh sách giá trị phần tử trong mảng:\n",
      "24 17 18 100 39 \n",
      "Tổng các giái trị phần tử của mảng: 198\n",
      "Giá trị lớn nhất: 100\n",
      "Giá trị nhỏ nhất: 17\n",
      "Danh sách giá trị phần tử giảm dần trong mảng:\n",
      "100 39 24 18 17 \n",
      "Danh sách giá trị phần tử chẵn trong mảng:\n",
      "24 18 100 "
     ]
    }
   ],
   "source": [
    "n = int(input(\"Nhập số lượng mảng cần khởi tạo\"))\n",
    "a = []\n",
    "\n",
    "for i in range(0, n):\n",
    "    a.append(int(input(\"Nhập con số thứ \" + str(i + 1) + \":\")))\n",
    "\n",
    "sum = 0\n",
    "max = a[0]\n",
    "min = a[0]\n",
    "b = sorted(a, reverse=True)\n",
    "\n",
    "print(\"Danh sách giá trị phần tử trong mảng:\")\n",
    "for i in range(0, n):\n",
    "    print(a[i], end=\" \")\n",
    "    if (max < a[i]):\n",
    "        max = a[i]\n",
    "    if (min > a[i]):\n",
    "        min = a[i]\n",
    "    sum += a[i]\n",
    "\n",
    "print(\"\\nTổng các giái trị phần tử của mảng: \" + str(sum))\n",
    "print(\"Giá trị lớn nhất: \" + str(max))\n",
    "print(\"Giá trị nhỏ nhất: \" + str(min))\n",
    "\n",
    "print(\"Danh sách giá trị phần tử giảm dần trong mảng:\")\n",
    "for i in range(0, n):\n",
    "    print(b[i], end=\" \")\n",
    "\n",
    "print(\"\\nDanh sách giá trị phần tử chẵn trong mảng:\")\n",
    "for i in range(0, n):\n",
    "    if (a[i] % 2 == 0):\n",
    "        print(a[i], end=\" \")\n"
   ]
  },
  {
   "cell_type": "markdown",
   "metadata": {
    "id": "hgGOt_Cxyulx"
   },
   "source": [
    "4. Viết chương trình yêu cầu người dùng nhập họ tên. Hiển thị tên người dùng sau khi đã chuẩn hóa. Biết rằng tên đã chuẩn hóa là:\n",
    "- Ký tự đầu viết hoa\n",
    "- Không có khoảng trắng thừa\n",
    "- Không có ký tự đặc biệt"
   ]
  },
  {
   "cell_type": "code",
   "execution_count": 31,
   "metadata": {
    "id": "duR4BF8Dyu_w"
   },
   "outputs": [
    {
     "name": "stdout",
     "output_type": "stream",
     "text": [
      "Nhập họ tên:  Huỳnh Đức Phú\n"
     ]
    },
    {
     "name": "stdout",
     "output_type": "stream",
     "text": [
      "Tên của bạn là: Huỳnh Đức Phú\n",
      "Tên đã chuẩn hóa!\n"
     ]
    }
   ],
   "source": [
    "special_characters = \"!\\\"#$%&'()*+,-./:;<=>?@[\\\\]^_`{|}~\"\n",
    "def is_normalize(value):\n",
    "    if value != value.strip() or \"  \" in value:\n",
    "        return False\n",
    "\n",
    "    for char in value:\n",
    "        if char in special_characters:\n",
    "            return False\n",
    "    \n",
    "    nameSplited = value.split(\" \")\n",
    "    for i in range(0, len(nameSplited)):\n",
    "        if not nameSplited[i][0].isupper():\n",
    "            return False\n",
    "            \n",
    "    return True\n",
    "\n",
    "\n",
    "name = str(input(\"Nhập họ tên: \"))\n",
    "print(\"Tên của bạn là: \" + name)\n",
    "\n",
    "if is_normalize(name):\n",
    "    print(\"Tên đã chuẩn hóa!\")\n",
    "else:\n",
    "    print(\"Tên chưa chuẩn hóa\")\n"
   ]
  },
  {
   "cell_type": "markdown",
   "metadata": {
    "id": "W5KucasA0NSA"
   },
   "source": [
    "5. Viết chương trình nhập vào một số nguyên dương (n>0). Cho biết n có phải là số đối xứng hay không? Biết số đối xứng là số viết xuôi hay viết ngược đều như nhau"
   ]
  },
  {
   "cell_type": "code",
   "execution_count": 35,
   "metadata": {
    "id": "FTH5V3je0YPg"
   },
   "outputs": [
    {
     "name": "stdout",
     "output_type": "stream",
     "text": [
      "Nhập số nguyên dương:  12345\n"
     ]
    },
    {
     "name": "stdout",
     "output_type": "stream",
     "text": [
      "12345 KHÔNG là một con số đối xứng\n"
     ]
    }
   ],
   "source": [
    "def is_number_symmetrical(value):\n",
    "    value_str = str(value)\n",
    "    value_str_len = len(value_str)\n",
    "    for i in range(0, int(value_str_len/2)):\n",
    "        if value_str[i] != value_str[value_str_len - 1 - i]:\n",
    "            return False\n",
    "    return True\n",
    "    \n",
    "\n",
    "number = int(input(\"Nhập số nguyên dương: \"))\n",
    "\n",
    "if n <= 0:\n",
    "    print(\"Đây không phải là một con số nguyên dương\")\n",
    "else:\n",
    "    if is_number_symmetrical(number):\n",
    "        print(str(number) + \" là một con số đối xứng\")\n",
    "    else:\n",
    "        print(str(number) + \" KHÔNG là một con số đối xứng\")\n",
    "\n",
    "\n",
    "    "
   ]
  },
  {
   "cell_type": "markdown",
   "metadata": {},
   "source": [
    "6. Với số nguyên n nhất định, hãy viết chương trình hiển thị dictionary chứa các cặp (i, i*i) ; biết i có giá trị từ 1..n\n"
   ]
  },
  {
   "cell_type": "code",
   "execution_count": 37,
   "metadata": {},
   "outputs": [
    {
     "name": "stdout",
     "output_type": "stream",
     "text": [
      "Nhập số nguyên dương:  5\n"
     ]
    },
    {
     "name": "stdout",
     "output_type": "stream",
     "text": [
      "{1: 1, 2: 4, 3: 9, 4: 16, 5: 25}\n"
     ]
    }
   ],
   "source": [
    "number = int(input(\"Nhập số nguyên dương: \"))\n",
    "result_dict = {}\n",
    "\n",
    "if n <= 0:\n",
    "    print(\"Đây không phải là một con số nguyên dương\")\n",
    "else:\n",
    "    for i in range(1, n+1):\n",
    "        result_dict[i] = i * i\n",
    "    print(result_dict)\n"
   ]
  },
  {
   "cell_type": "markdown",
   "metadata": {},
   "source": [
    "7. Viết chương trình tìm tất cả các số chia hết cho 7 nhưng không phải bội số của 5, nằm trong đoạn 2000 và 3200 (tính cả 2000 và 3200). Các số thu được sẽ được in thành chuỗi trên một dòng, cách nhau bằng dấu phẩy"
   ]
  },
  {
   "cell_type": "code",
   "execution_count": 38,
   "metadata": {},
   "outputs": [
    {
     "name": "stdout",
     "output_type": "stream",
     "text": [
      "2002, 2009, 2016, 2023, 2037, 2044, 2051, 2058, 2072, 2079, 2086, 2093, 2107, 2114, 2121, 2128, 2142, 2149, 2156, 2163, 2177, 2184, 2191, 2198, 2212, 2219, 2226, 2233, 2247, 2254, 2261, 2268, 2282, 2289, 2296, 2303, 2317, 2324, 2331, 2338, 2352, 2359, 2366, 2373, 2387, 2394, 2401, 2408, 2422, 2429, 2436, 2443, 2457, 2464, 2471, 2478, 2492, 2499, 2506, 2513, 2527, 2534, 2541, 2548, 2562, 2569, 2576, 2583, 2597, 2604, 2611, 2618, 2632, 2639, 2646, 2653, 2667, 2674, 2681, 2688, 2702, 2709, 2716, 2723, 2737, 2744, 2751, 2758, 2772, 2779, 2786, 2793, 2807, 2814, 2821, 2828, 2842, 2849, 2856, 2863, 2877, 2884, 2891, 2898, 2912, 2919, 2926, 2933, 2947, 2954, 2961, 2968, 2982, 2989, 2996, 3003, 3017, 3024, 3031, 3038, 3052, 3059, 3066, 3073, 3087, 3094, 3101, 3108, 3122, 3129, 3136, 3143, 3157, 3164, 3171, 3178, 3192, 3199, "
     ]
    }
   ],
   "source": [
    "for i in range(2000, 3201):\n",
    "    if i % 7 == 0 and not i % 5 == 0:\n",
    "        print(i, end=\", \")"
   ]
  },
  {
   "cell_type": "markdown",
   "metadata": {},
   "source": [
    "8. Viết chương trình chấp nhận một chuỗi số, phân tách bằng dấu phẩy từ giao diện điều khiển, tạo ra một List và một tuple chứa mọi số.\n",
    "\n",
    "    Ví dụ:\n",
    "\n",
    "    ```\n",
    "    Đầu vào được cung cấp là '34,67,55,33,12,98' thì đầu ra là:\n",
    "\n",
    "    [34, 67, 55, 33, 12, 98]\n",
    "    (34, 67, 55, 33, 12, 98)\n",
    "    ```\n"
   ]
  },
  {
   "cell_type": "code",
   "execution_count": 44,
   "metadata": {},
   "outputs": [
    {
     "name": "stdout",
     "output_type": "stream",
     "text": [
      "['34', '67', '55', '33', '12', '98']\n",
      "('34', '67', '55', '33', '12', '98')\n"
     ]
    }
   ],
   "source": [
    "input_str = \"34,67,55,33,12,98\"\n",
    "\n",
    "input_str_list = input_str.split(\",\")\n",
    "input_str_tuple = tuple(input_str_list)\n",
    "print(input_str_list)\n",
    "print(input_str_tuple)\n"
   ]
  },
  {
   "cell_type": "markdown",
   "metadata": {},
   "source": [
    "9. Viết hàm nhận vào một danh sách các số nguyên. Hãy viết hàm trả về một danh sách gồm các số không trùng nhau trong danh sách ban đầu"
   ]
  },
  {
   "cell_type": "code",
   "execution_count": 46,
   "metadata": {},
   "outputs": [
    {
     "name": "stdout",
     "output_type": "stream",
     "text": [
      "Nhập số lượng mảng cần khởi tạo 5\n",
      "Nhập con số thứ 1: 1\n",
      "Nhập con số thứ 2: 2\n",
      "Nhập con số thứ 3: 2\n",
      "Nhập con số thứ 4: 3\n",
      "Nhập con số thứ 5: 3\n"
     ]
    },
    {
     "name": "stdout",
     "output_type": "stream",
     "text": [
      "[1, 2, 3]\n"
     ]
    }
   ],
   "source": [
    "n = int(input(\"Nhập số lượng mảng cần khởi tạo\"))\n",
    "a = []\n",
    "\n",
    "for i in range(0, n):\n",
    "    number = int(input(\"Nhập con số thứ \" + str(i + 1) + \":\"))\n",
    "    if number not in a:\n",
    "        a.append(number)\n",
    "\n",
    "print(a)\n",
    "\n"
   ]
  },
  {
   "cell_type": "markdown",
   "metadata": {},
   "source": [
    "10. Viết hàm có tham số đầu vào là một list L có các phần tử là chuỗi. Hãy tạo ra một dictionary D mã hóa, với mỗi một phần tử trong L được mã hóa thành một con số (theo thứ tự từ 0 tăng dần lên 1 đơn vị). Sau đó trả về list đã được mã hóa\n",
    "\n",
    "    Ví dụ:\n",
    "\n",
    "    ```\n",
    "    Cho L = [\"đen\",\"vàng\",\"xanh\",\"vàng\",\"xanh\",\"đỏ\",\"hồng\"]\n",
    "\n",
    "    Xây dựng dictionary mã hóa:\n",
    "    D = {'đen':0,'vàng':1,'xanh':2,'đỏ':3,'hồng':4}\n",
    "\n",
    "    Trả về List mã hóa:\n",
    "    L_mahoa = [0, 1, 2, 1, 2, 3, 4]\n",
    "    ```"
   ]
  },
  {
   "cell_type": "code",
   "execution_count": 50,
   "metadata": {},
   "outputs": [
    {
     "name": "stdout",
     "output_type": "stream",
     "text": [
      "{'đen': 0, 'vàng': 1, 'xanh': 2, 'đỏ': 3, 'hồng': 4}\n"
     ]
    }
   ],
   "source": [
    "l = [\"đen\",\"vàng\",\"xanh\",\"vàng\",\"xanh\",\"đỏ\",\"hồng\"]\n",
    "d = {}\n",
    "counter = 0\n",
    "\n",
    "for i in range(0, len(l)):\n",
    "    if l[i] not in d:\n",
    "        d[l[i]] = counter\n",
    "        counter += 1\n",
    "\n",
    "print(d)"
   ]
  }
 ],
 "metadata": {
  "colab": {
   "authorship_tag": "ABX9TyOelhBBO7DINQ7b3uUiVhbi",
   "provenance": []
  },
  "kernelspec": {
   "display_name": "Python 3 (ipykernel)",
   "language": "python",
   "name": "python3"
  },
  "language_info": {
   "codemirror_mode": {
    "name": "ipython",
    "version": 3
   },
   "file_extension": ".py",
   "mimetype": "text/x-python",
   "name": "python",
   "nbconvert_exporter": "python",
   "pygments_lexer": "ipython3",
   "version": "3.12.3"
  }
 },
 "nbformat": 4,
 "nbformat_minor": 4
}
